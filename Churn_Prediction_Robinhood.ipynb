{
  "cells": [
    {
      "cell_type": "markdown",
      "source": [
        "### Specify the churned users based on the definition provided by the company.\n",
        "lets load the datasets:"
      ],
      "metadata": {
        "id": "-0d4YMKCYsmm"
      },
      "id": "-0d4YMKCYsmm"
    },
    {
      "cell_type": "code",
      "source": [
        "# Import libraries\n",
        "import pandas as pd\n",
        "import numpy as np\n",
        "import matplotlib.pyplot as plt\n",
        "from sklearn.model_selection import cross_val_score,RepeatedStratifiedKFold,train_test_split\n",
        "from sklearn.metrics import classification_report,roc_curve\n",
        "from sklearn.datasets import make_classification"
      ],
      "metadata": {
        "id": "ZE6Iq-zsK3mA"
      },
      "id": "ZE6Iq-zsK3mA",
      "execution_count": null,
      "outputs": []
    },
    {
      "cell_type": "code",
      "execution_count": 3,
      "id": "b9321f51",
      "metadata": {
        "id": "b9321f51"
      },
      "outputs": [],
      "source": [
        "# Import data from .CSV file\n",
        "path_equity_value_data = 'Data for robinhood/equity_value_data.csv'\n",
        "equity_value_data = pd.read_csv(path_equity_value_data)\n",
        "\n",
        "path_features_data = 'Data for robinhood/features_data.csv'\n",
        "features_data = pd.read_csv(path_features_data)"
      ]
    },
    {
      "cell_type": "code",
      "source": [
        "# Print out the column types in the equity value dataset\n",
        "print(\"Column types in the equity value dataset: \\n {}\".format(equity_value_data.dtypes))"
      ],
      "metadata": {
        "colab": {
          "base_uri": "https://localhost:8080/"
        },
        "id": "42_UVCJQ2QhF",
        "outputId": "4b17fa10-7ea9-4269-cb9d-10e157e50843"
      },
      "id": "42_UVCJQ2QhF",
      "execution_count": 4,
      "outputs": [
        {
          "output_type": "stream",
          "name": "stdout",
          "text": [
            "Column types in the equity value dataset: \n",
            " timestamp        object\n",
            "close_equity    float64\n",
            "user_id          object\n",
            "dtype: object\n"
          ]
        }
      ]
    },
    {
      "cell_type": "code",
      "execution_count": 5,
      "id": "c563a204",
      "metadata": {
        "id": "c563a204",
        "outputId": "f4cf7b99-0ade-4e09-890d-f3f0b4c2977e",
        "colab": {
          "base_uri": "https://localhost:8080/"
        }
      },
      "outputs": [
        {
          "output_type": "stream",
          "name": "stdout",
          "text": [
            "Number of users in the dataset: 5584\n"
          ]
        }
      ],
      "source": [
        "# Determine the total number of users in the dataset\n",
        "print(\"Number of users in the dataset: {}\".format(len(equity_value_data.user_id.unique())))"
      ]
    },
    {
      "cell_type": "code",
      "execution_count": 6,
      "id": "34c57e2a",
      "metadata": {
        "id": "34c57e2a",
        "colab": {
          "base_uri": "https://localhost:8080/"
        },
        "outputId": "58d3c08b-cc69-429a-fa47-d4428f056618"
      },
      "outputs": [
        {
          "output_type": "stream",
          "name": "stdout",
          "text": [
            "Column types in the equity value dataset after reformatting the timestamp column : \n",
            " timestamp       datetime64[ns, UTC]\n",
            "close_equity                float64\n",
            "user_id                      object\n",
            "dtype: object\n"
          ]
        }
      ],
      "source": [
        "# Change the format of \"timestamp\" column from string to date\n",
        "Timestamp_timeformat= pd.to_datetime(equity_value_data['timestamp'],format='%Y-%m-%dT%H:%M:%S%z')\n",
        "equity_value_data_processed = pd.concat([Timestamp_timeformat,equity_value_data[['close_equity', 'user_id']]],axis=1)\n",
        "\n",
        "# Print out the column types in the equity value dataset after reformatting\n",
        "print(\"Column types in the equity value dataset after reformatting the timestamp column : \\n {}\".format(equity_value_data_processed.dtypes))"
      ]
    },
    {
      "cell_type": "code",
      "execution_count": 7,
      "id": "53a3a5ef",
      "metadata": {
        "id": "53a3a5ef",
        "outputId": "baf80e86-5f54-4e87-adfb-c3846cbf0c37",
        "colab": {
          "base_uri": "https://localhost:8080/",
          "height": 241
        }
      },
      "outputs": [
        {
          "output_type": "stream",
          "name": "stdout",
          "text": [
            "Print few columns of equity value dataset after reformatting the timestamp column :\n",
            "\n"
          ]
        },
        {
          "output_type": "execute_result",
          "data": {
            "text/html": [
              "\n",
              "  <div id=\"df-932e1e87-54ed-490d-b0f4-f66c8e6c721c\">\n",
              "    <div class=\"colab-df-container\">\n",
              "      <div>\n",
              "<style scoped>\n",
              "    .dataframe tbody tr th:only-of-type {\n",
              "        vertical-align: middle;\n",
              "    }\n",
              "\n",
              "    .dataframe tbody tr th {\n",
              "        vertical-align: top;\n",
              "    }\n",
              "\n",
              "    .dataframe thead th {\n",
              "        text-align: right;\n",
              "    }\n",
              "</style>\n",
              "<table border=\"1\" class=\"dataframe\">\n",
              "  <thead>\n",
              "    <tr style=\"text-align: right;\">\n",
              "      <th></th>\n",
              "      <th>timestamp</th>\n",
              "      <th>close_equity</th>\n",
              "      <th>user_id</th>\n",
              "    </tr>\n",
              "  </thead>\n",
              "  <tbody>\n",
              "    <tr>\n",
              "      <th>0</th>\n",
              "      <td>2016-11-16 00:00:00+00:00</td>\n",
              "      <td>48.16</td>\n",
              "      <td>bcef4fa9b0bdf22bcf7deae708decf03</td>\n",
              "    </tr>\n",
              "    <tr>\n",
              "      <th>1</th>\n",
              "      <td>2016-11-17 00:00:00+00:00</td>\n",
              "      <td>48.16</td>\n",
              "      <td>bcef4fa9b0bdf22bcf7deae708decf03</td>\n",
              "    </tr>\n",
              "    <tr>\n",
              "      <th>2</th>\n",
              "      <td>2016-11-18 00:00:00+00:00</td>\n",
              "      <td>48.16</td>\n",
              "      <td>bcef4fa9b0bdf22bcf7deae708decf03</td>\n",
              "    </tr>\n",
              "    <tr>\n",
              "      <th>3</th>\n",
              "      <td>2016-11-21 00:00:00+00:00</td>\n",
              "      <td>48.16</td>\n",
              "      <td>bcef4fa9b0bdf22bcf7deae708decf03</td>\n",
              "    </tr>\n",
              "    <tr>\n",
              "      <th>4</th>\n",
              "      <td>2016-11-22 00:00:00+00:00</td>\n",
              "      <td>48.16</td>\n",
              "      <td>bcef4fa9b0bdf22bcf7deae708decf03</td>\n",
              "    </tr>\n",
              "  </tbody>\n",
              "</table>\n",
              "</div>\n",
              "      <button class=\"colab-df-convert\" onclick=\"convertToInteractive('df-932e1e87-54ed-490d-b0f4-f66c8e6c721c')\"\n",
              "              title=\"Convert this dataframe to an interactive table.\"\n",
              "              style=\"display:none;\">\n",
              "        \n",
              "  <svg xmlns=\"http://www.w3.org/2000/svg\" height=\"24px\"viewBox=\"0 0 24 24\"\n",
              "       width=\"24px\">\n",
              "    <path d=\"M0 0h24v24H0V0z\" fill=\"none\"/>\n",
              "    <path d=\"M18.56 5.44l.94 2.06.94-2.06 2.06-.94-2.06-.94-.94-2.06-.94 2.06-2.06.94zm-11 1L8.5 8.5l.94-2.06 2.06-.94-2.06-.94L8.5 2.5l-.94 2.06-2.06.94zm10 10l.94 2.06.94-2.06 2.06-.94-2.06-.94-.94-2.06-.94 2.06-2.06.94z\"/><path d=\"M17.41 7.96l-1.37-1.37c-.4-.4-.92-.59-1.43-.59-.52 0-1.04.2-1.43.59L10.3 9.45l-7.72 7.72c-.78.78-.78 2.05 0 2.83L4 21.41c.39.39.9.59 1.41.59.51 0 1.02-.2 1.41-.59l7.78-7.78 2.81-2.81c.8-.78.8-2.07 0-2.86zM5.41 20L4 18.59l7.72-7.72 1.47 1.35L5.41 20z\"/>\n",
              "  </svg>\n",
              "      </button>\n",
              "      \n",
              "  <style>\n",
              "    .colab-df-container {\n",
              "      display:flex;\n",
              "      flex-wrap:wrap;\n",
              "      gap: 12px;\n",
              "    }\n",
              "\n",
              "    .colab-df-convert {\n",
              "      background-color: #E8F0FE;\n",
              "      border: none;\n",
              "      border-radius: 50%;\n",
              "      cursor: pointer;\n",
              "      display: none;\n",
              "      fill: #1967D2;\n",
              "      height: 32px;\n",
              "      padding: 0 0 0 0;\n",
              "      width: 32px;\n",
              "    }\n",
              "\n",
              "    .colab-df-convert:hover {\n",
              "      background-color: #E2EBFA;\n",
              "      box-shadow: 0px 1px 2px rgba(60, 64, 67, 0.3), 0px 1px 3px 1px rgba(60, 64, 67, 0.15);\n",
              "      fill: #174EA6;\n",
              "    }\n",
              "\n",
              "    [theme=dark] .colab-df-convert {\n",
              "      background-color: #3B4455;\n",
              "      fill: #D2E3FC;\n",
              "    }\n",
              "\n",
              "    [theme=dark] .colab-df-convert:hover {\n",
              "      background-color: #434B5C;\n",
              "      box-shadow: 0px 1px 3px 1px rgba(0, 0, 0, 0.15);\n",
              "      filter: drop-shadow(0px 1px 2px rgba(0, 0, 0, 0.3));\n",
              "      fill: #FFFFFF;\n",
              "    }\n",
              "  </style>\n",
              "\n",
              "      <script>\n",
              "        const buttonEl =\n",
              "          document.querySelector('#df-932e1e87-54ed-490d-b0f4-f66c8e6c721c button.colab-df-convert');\n",
              "        buttonEl.style.display =\n",
              "          google.colab.kernel.accessAllowed ? 'block' : 'none';\n",
              "\n",
              "        async function convertToInteractive(key) {\n",
              "          const element = document.querySelector('#df-932e1e87-54ed-490d-b0f4-f66c8e6c721c');\n",
              "          const dataTable =\n",
              "            await google.colab.kernel.invokeFunction('convertToInteractive',\n",
              "                                                     [key], {});\n",
              "          if (!dataTable) return;\n",
              "\n",
              "          const docLinkHtml = 'Like what you see? Visit the ' +\n",
              "            '<a target=\"_blank\" href=https://colab.research.google.com/notebooks/data_table.ipynb>data table notebook</a>'\n",
              "            + ' to learn more about interactive tables.';\n",
              "          element.innerHTML = '';\n",
              "          dataTable['output_type'] = 'display_data';\n",
              "          await google.colab.output.renderOutput(dataTable, element);\n",
              "          const docLink = document.createElement('div');\n",
              "          docLink.innerHTML = docLinkHtml;\n",
              "          element.appendChild(docLink);\n",
              "        }\n",
              "      </script>\n",
              "    </div>\n",
              "  </div>\n",
              "  "
            ],
            "text/plain": [
              "                  timestamp  close_equity                           user_id\n",
              "0 2016-11-16 00:00:00+00:00         48.16  bcef4fa9b0bdf22bcf7deae708decf03\n",
              "1 2016-11-17 00:00:00+00:00         48.16  bcef4fa9b0bdf22bcf7deae708decf03\n",
              "2 2016-11-18 00:00:00+00:00         48.16  bcef4fa9b0bdf22bcf7deae708decf03\n",
              "3 2016-11-21 00:00:00+00:00         48.16  bcef4fa9b0bdf22bcf7deae708decf03\n",
              "4 2016-11-22 00:00:00+00:00         48.16  bcef4fa9b0bdf22bcf7deae708decf03"
            ]
          },
          "metadata": {},
          "execution_count": 7
        }
      ],
      "source": [
        "# Print out few rows of reformatted equity value dataset\n",
        "print(\"Print few columns of equity value dataset after reformatting the timestamp column :\\n\")\n",
        "equity_value_data_processed.head()"
      ]
    },
    {
      "cell_type": "code",
      "execution_count": 8,
      "id": "7b0f38ed",
      "metadata": {
        "id": "7b0f38ed"
      },
      "outputs": [],
      "source": [
        "# Identify the churned users\n",
        "churned_user = []\n",
        "churned_user_id =[]\n",
        "for ID in equity_value_data_processed.user_id.unique():\n",
        "    churned_user_id.append(ID)\n",
        "    Sub_equity_value_data = equity_value_data_processed[equity_value_data_processed.user_id == ID].timestamp.to_numpy()\n",
        "\n",
        "    for i in range(len(Sub_equity_value_data)):\n",
        "        \n",
        "        if i == len(Sub_equity_value_data)-1:\n",
        "            churned_user.append(0)\n",
        "            break\n",
        "        \n",
        "        elif (Sub_equity_value_data[i+1]-Sub_equity_value_data[i]).days >=28:\n",
        "            churned_user.append(1)\n",
        "            break\n",
        "        \n",
        "        else:\n",
        "            pass"
      ]
    },
    {
      "cell_type": "code",
      "execution_count": 9,
      "id": "1ccfa7f3",
      "metadata": {
        "id": "1ccfa7f3",
        "colab": {
          "base_uri": "https://localhost:8080/"
        },
        "outputId": "3b9124e8-4b42-4eca-a80d-345f013986df"
      },
      "outputs": [
        {
          "output_type": "stream",
          "name": "stdout",
          "text": [
            "what percentage of users have churned in the data provided ? 4.9964183381088825\n"
          ]
        }
      ],
      "source": [
        "# Determine the percentage of churned users\n",
        "Percentage_of_churned = sum(churned_user)/len(churned_user)\n",
        "print(\"what percentage of users have churned in the data provided ? {}\".format(Percentage_of_churned*100))"
      ]
    },
    {
      "cell_type": "code",
      "source": [
        "# Create dataframe from the generated lists for churned users and churned users'id.  \n",
        "churned_user_id_Pdseries = pd.DataFrame(churned_user_id)\n",
        "churned_user_Pdseries = pd.DataFrame(churned_user)\n",
        "churned_user_DataFrame = pd.concat([churned_user_id_Pdseries,churned_user_Pdseries], axis=1)\n",
        "churned_user_DataFrame.columns= ['user_id','churned_status']"
      ],
      "metadata": {
        "id": "S2Gr5b7x9gHy"
      },
      "id": "S2Gr5b7x9gHy",
      "execution_count": 10,
      "outputs": []
    },
    {
      "cell_type": "code",
      "execution_count": 11,
      "id": "cd3d98fe",
      "metadata": {
        "id": "cd3d98fe"
      },
      "outputs": [],
      "source": [
        "# Join the churned dataframe and features_data using user_id column as the key.\n",
        "Prcessed_Dataframe = features_data.set_index('user_id').join(churned_user_DataFrame.set_index('user_id'))"
      ]
    },
    {
      "cell_type": "code",
      "execution_count": 12,
      "id": "1df9a487",
      "metadata": {
        "id": "1df9a487",
        "colab": {
          "base_uri": "https://localhost:8080/",
          "height": 336
        },
        "outputId": "c1b20545-6113-4528-a2a1-70851637087d"
      },
      "outputs": [
        {
          "output_type": "stream",
          "name": "stdout",
          "text": [
            "Print out few columns of Proccessed_Dataframe after reformatting the timestamp column :\n",
            "\n"
          ]
        },
        {
          "output_type": "execute_result",
          "data": {
            "text/html": [
              "\n",
              "  <div id=\"df-057f45bc-89e9-4cb5-b55e-3c946cb7f492\">\n",
              "    <div class=\"colab-df-container\">\n",
              "      <div>\n",
              "<style scoped>\n",
              "    .dataframe tbody tr th:only-of-type {\n",
              "        vertical-align: middle;\n",
              "    }\n",
              "\n",
              "    .dataframe tbody tr th {\n",
              "        vertical-align: top;\n",
              "    }\n",
              "\n",
              "    .dataframe thead th {\n",
              "        text-align: right;\n",
              "    }\n",
              "</style>\n",
              "<table border=\"1\" class=\"dataframe\">\n",
              "  <thead>\n",
              "    <tr style=\"text-align: right;\">\n",
              "      <th></th>\n",
              "      <th>risk_tolerance</th>\n",
              "      <th>investment_experience</th>\n",
              "      <th>liquidity_needs</th>\n",
              "      <th>platform</th>\n",
              "      <th>time_spent</th>\n",
              "      <th>instrument_type_first_traded</th>\n",
              "      <th>first_deposit_amount</th>\n",
              "      <th>time_horizon</th>\n",
              "      <th>churned_status</th>\n",
              "    </tr>\n",
              "    <tr>\n",
              "      <th>user_id</th>\n",
              "      <th></th>\n",
              "      <th></th>\n",
              "      <th></th>\n",
              "      <th></th>\n",
              "      <th></th>\n",
              "      <th></th>\n",
              "      <th></th>\n",
              "      <th></th>\n",
              "      <th></th>\n",
              "    </tr>\n",
              "  </thead>\n",
              "  <tbody>\n",
              "    <tr>\n",
              "      <th>895044c23edc821881e87da749c01034</th>\n",
              "      <td>high_risk_tolerance</td>\n",
              "      <td>limited_investment_exp</td>\n",
              "      <td>very_important_liq_need</td>\n",
              "      <td>Android</td>\n",
              "      <td>33.129417</td>\n",
              "      <td>stock</td>\n",
              "      <td>40.0</td>\n",
              "      <td>med_time_horizon</td>\n",
              "      <td>0</td>\n",
              "    </tr>\n",
              "    <tr>\n",
              "      <th>458b1d95441ced242949deefe8e4b638</th>\n",
              "      <td>med_risk_tolerance</td>\n",
              "      <td>limited_investment_exp</td>\n",
              "      <td>very_important_liq_need</td>\n",
              "      <td>Android</td>\n",
              "      <td>16.573517</td>\n",
              "      <td>stock</td>\n",
              "      <td>200.0</td>\n",
              "      <td>short_time_horizon</td>\n",
              "      <td>0</td>\n",
              "    </tr>\n",
              "    <tr>\n",
              "      <th>c7936f653d293479e034865db9bb932f</th>\n",
              "      <td>med_risk_tolerance</td>\n",
              "      <td>limited_investment_exp</td>\n",
              "      <td>very_important_liq_need</td>\n",
              "      <td>iOS</td>\n",
              "      <td>10.008367</td>\n",
              "      <td>stock</td>\n",
              "      <td>25.0</td>\n",
              "      <td>long_time_horizon</td>\n",
              "      <td>0</td>\n",
              "    </tr>\n",
              "    <tr>\n",
              "      <th>b255d4bd6c9ba194d3a350b3e76c6393</th>\n",
              "      <td>med_risk_tolerance</td>\n",
              "      <td>limited_investment_exp</td>\n",
              "      <td>very_important_liq_need</td>\n",
              "      <td>Android</td>\n",
              "      <td>1.031633</td>\n",
              "      <td>stock</td>\n",
              "      <td>100.0</td>\n",
              "      <td>short_time_horizon</td>\n",
              "      <td>0</td>\n",
              "    </tr>\n",
              "    <tr>\n",
              "      <th>4a168225e89375b8de605cbc0977ae91</th>\n",
              "      <td>high_risk_tolerance</td>\n",
              "      <td>limited_investment_exp</td>\n",
              "      <td>very_important_liq_need</td>\n",
              "      <td>Android</td>\n",
              "      <td>8.187250</td>\n",
              "      <td>stock</td>\n",
              "      <td>20.0</td>\n",
              "      <td>long_time_horizon</td>\n",
              "      <td>0</td>\n",
              "    </tr>\n",
              "  </tbody>\n",
              "</table>\n",
              "</div>\n",
              "      <button class=\"colab-df-convert\" onclick=\"convertToInteractive('df-057f45bc-89e9-4cb5-b55e-3c946cb7f492')\"\n",
              "              title=\"Convert this dataframe to an interactive table.\"\n",
              "              style=\"display:none;\">\n",
              "        \n",
              "  <svg xmlns=\"http://www.w3.org/2000/svg\" height=\"24px\"viewBox=\"0 0 24 24\"\n",
              "       width=\"24px\">\n",
              "    <path d=\"M0 0h24v24H0V0z\" fill=\"none\"/>\n",
              "    <path d=\"M18.56 5.44l.94 2.06.94-2.06 2.06-.94-2.06-.94-.94-2.06-.94 2.06-2.06.94zm-11 1L8.5 8.5l.94-2.06 2.06-.94-2.06-.94L8.5 2.5l-.94 2.06-2.06.94zm10 10l.94 2.06.94-2.06 2.06-.94-2.06-.94-.94-2.06-.94 2.06-2.06.94z\"/><path d=\"M17.41 7.96l-1.37-1.37c-.4-.4-.92-.59-1.43-.59-.52 0-1.04.2-1.43.59L10.3 9.45l-7.72 7.72c-.78.78-.78 2.05 0 2.83L4 21.41c.39.39.9.59 1.41.59.51 0 1.02-.2 1.41-.59l7.78-7.78 2.81-2.81c.8-.78.8-2.07 0-2.86zM5.41 20L4 18.59l7.72-7.72 1.47 1.35L5.41 20z\"/>\n",
              "  </svg>\n",
              "      </button>\n",
              "      \n",
              "  <style>\n",
              "    .colab-df-container {\n",
              "      display:flex;\n",
              "      flex-wrap:wrap;\n",
              "      gap: 12px;\n",
              "    }\n",
              "\n",
              "    .colab-df-convert {\n",
              "      background-color: #E8F0FE;\n",
              "      border: none;\n",
              "      border-radius: 50%;\n",
              "      cursor: pointer;\n",
              "      display: none;\n",
              "      fill: #1967D2;\n",
              "      height: 32px;\n",
              "      padding: 0 0 0 0;\n",
              "      width: 32px;\n",
              "    }\n",
              "\n",
              "    .colab-df-convert:hover {\n",
              "      background-color: #E2EBFA;\n",
              "      box-shadow: 0px 1px 2px rgba(60, 64, 67, 0.3), 0px 1px 3px 1px rgba(60, 64, 67, 0.15);\n",
              "      fill: #174EA6;\n",
              "    }\n",
              "\n",
              "    [theme=dark] .colab-df-convert {\n",
              "      background-color: #3B4455;\n",
              "      fill: #D2E3FC;\n",
              "    }\n",
              "\n",
              "    [theme=dark] .colab-df-convert:hover {\n",
              "      background-color: #434B5C;\n",
              "      box-shadow: 0px 1px 3px 1px rgba(0, 0, 0, 0.15);\n",
              "      filter: drop-shadow(0px 1px 2px rgba(0, 0, 0, 0.3));\n",
              "      fill: #FFFFFF;\n",
              "    }\n",
              "  </style>\n",
              "\n",
              "      <script>\n",
              "        const buttonEl =\n",
              "          document.querySelector('#df-057f45bc-89e9-4cb5-b55e-3c946cb7f492 button.colab-df-convert');\n",
              "        buttonEl.style.display =\n",
              "          google.colab.kernel.accessAllowed ? 'block' : 'none';\n",
              "\n",
              "        async function convertToInteractive(key) {\n",
              "          const element = document.querySelector('#df-057f45bc-89e9-4cb5-b55e-3c946cb7f492');\n",
              "          const dataTable =\n",
              "            await google.colab.kernel.invokeFunction('convertToInteractive',\n",
              "                                                     [key], {});\n",
              "          if (!dataTable) return;\n",
              "\n",
              "          const docLinkHtml = 'Like what you see? Visit the ' +\n",
              "            '<a target=\"_blank\" href=https://colab.research.google.com/notebooks/data_table.ipynb>data table notebook</a>'\n",
              "            + ' to learn more about interactive tables.';\n",
              "          element.innerHTML = '';\n",
              "          dataTable['output_type'] = 'display_data';\n",
              "          await google.colab.output.renderOutput(dataTable, element);\n",
              "          const docLink = document.createElement('div');\n",
              "          docLink.innerHTML = docLinkHtml;\n",
              "          element.appendChild(docLink);\n",
              "        }\n",
              "      </script>\n",
              "    </div>\n",
              "  </div>\n",
              "  "
            ],
            "text/plain": [
              "                                       risk_tolerance  ... churned_status\n",
              "user_id                                                ...               \n",
              "895044c23edc821881e87da749c01034  high_risk_tolerance  ...              0\n",
              "458b1d95441ced242949deefe8e4b638   med_risk_tolerance  ...              0\n",
              "c7936f653d293479e034865db9bb932f   med_risk_tolerance  ...              0\n",
              "b255d4bd6c9ba194d3a350b3e76c6393   med_risk_tolerance  ...              0\n",
              "4a168225e89375b8de605cbc0977ae91  high_risk_tolerance  ...              0\n",
              "\n",
              "[5 rows x 9 columns]"
            ]
          },
          "metadata": {},
          "execution_count": 12
        }
      ],
      "source": [
        "# Print out few columns of Proccessed_Dataframe\n",
        "print(\"Print out few columns of Proccessed_Dataframe after reformatting the timestamp column :\\n\")\n",
        "Prcessed_Dataframe.head()"
      ]
    },
    {
      "cell_type": "markdown",
      "source": [
        "### Define function to implement SMOTE method:\n",
        "\n"
      ],
      "metadata": {
        "id": "3bZQEUJc84aV"
      },
      "id": "3bZQEUJc84aV"
    },
    {
      "cell_type": "code",
      "source": [
        "# Import the SMOTE from Imblearn library\n",
        "from imblearn.over_sampling import SMOTE \n",
        "def smote_imbal(X,Y):\n",
        "  ''' \n",
        "  The function implements the SMOTE oversampling on the imbalanced dataset.\n",
        "  \n",
        "  Input:\n",
        "  X: feature set\n",
        "  Y: labels\n",
        "\n",
        "  Output:\n",
        "  X_sm: feature set after SMOTE oversampling\n",
        "  y_sm: labels after SMOTE oversampling\n",
        "  '''\n",
        "  smote = SMOTE (sampling_strategy = 'minority')\n",
        "  X_sm, y_sm = smote.fit_resample(X,Y)\n",
        "  return X_sm, y_sm\n",
        "  "
      ],
      "metadata": {
        "id": "K4F9xcWaRQv1"
      },
      "id": "K4F9xcWaRQv1",
      "execution_count": 13,
      "outputs": []
    },
    {
      "cell_type": "markdown",
      "source": [
        "### Build the classificaiton model:\n",
        "Prepare the dataset:"
      ],
      "metadata": {
        "id": "0oEI4YHjY51p"
      },
      "id": "0oEI4YHjY51p"
    },
    {
      "cell_type": "code",
      "execution_count": 14,
      "id": "4e86db67",
      "metadata": {
        "id": "4e86db67"
      },
      "outputs": [],
      "source": [
        "# Create feature set and labels set\n",
        "X = Prcessed_Dataframe[['risk_tolerance', 'investment_experience', 'liquidity_needs',\n",
        "       'platform', 'time_spent', 'instrument_type_first_traded',\n",
        "       'first_deposit_amount', 'time_horizon']]\n",
        "Y = Prcessed_Dataframe[['churned_status']]"
      ]
    },
    {
      "cell_type": "code",
      "source": [
        "# Determine the columns with categorical variables in X set:\n",
        "print(\"Column types in X set: \\n {}\".format(X.dtypes))"
      ],
      "metadata": {
        "colab": {
          "base_uri": "https://localhost:8080/"
        },
        "id": "79XvqLFMJxx6",
        "outputId": "965dc2d1-68f3-49e6-aca0-d2340e6a07ea"
      },
      "id": "79XvqLFMJxx6",
      "execution_count": 15,
      "outputs": [
        {
          "output_type": "stream",
          "name": "stdout",
          "text": [
            "Column types in X set: \n",
            " risk_tolerance                   object\n",
            "investment_experience            object\n",
            "liquidity_needs                  object\n",
            "platform                         object\n",
            "time_spent                      float64\n",
            "instrument_type_first_traded     object\n",
            "first_deposit_amount            float64\n",
            "time_horizon                     object\n",
            "dtype: object\n"
          ]
        }
      ]
    },
    {
      "cell_type": "code",
      "execution_count": 16,
      "id": "8b7be486",
      "metadata": {
        "id": "8b7be486",
        "outputId": "3baf803b-1e1a-49d3-b61c-77494a2bb005",
        "colab": {
          "base_uri": "https://localhost:8080/"
        }
      },
      "outputs": [
        {
          "output_type": "stream",
          "name": "stdout",
          "text": [
            "Unique values in each column of X set: \n",
            " risk_tolerance                     3\n",
            "investment_experience              4\n",
            "liquidity_needs                    3\n",
            "platform                           3\n",
            "time_spent                      4502\n",
            "instrument_type_first_traded      11\n",
            "first_deposit_amount             317\n",
            "time_horizon                       3\n",
            "dtype: int64\n"
          ]
        }
      ],
      "source": [
        "# Determine the unique values in each column of X set:\n",
        "print(\"Unique values in each column of X set: \\n {}\".format(X.nunique()))\n"
      ]
    },
    {
      "cell_type": "code",
      "execution_count": 17,
      "id": "fa67c42c",
      "metadata": {
        "id": "fa67c42c",
        "outputId": "2c9abf4b-dd70-4230-c113-7254bbf991d5",
        "colab": {
          "base_uri": "https://localhost:8080/"
        }
      },
      "outputs": [
        {
          "output_type": "stream",
          "name": "stdout",
          "text": [
            "Is there any missing value in each column: \n",
            " risk_tolerance                  False\n",
            "investment_experience           False\n",
            "liquidity_needs                 False\n",
            "platform                        False\n",
            "time_spent                      False\n",
            "instrument_type_first_traded    False\n",
            "first_deposit_amount            False\n",
            "time_horizon                    False\n",
            "dtype: bool\n"
          ]
        }
      ],
      "source": [
        "\n",
        "# Determine the columns with missing values:\n",
        "print(\"Is there any missing value in each column: \\n {}\".format(X.isnull().any()))"
      ]
    },
    {
      "cell_type": "code",
      "execution_count": 18,
      "id": "e5db133a",
      "metadata": {
        "id": "e5db133a",
        "colab": {
          "base_uri": "https://localhost:8080/",
          "height": 336
        },
        "outputId": "096337f9-d1af-464a-93a0-9e07447b2c8b"
      },
      "outputs": [
        {
          "output_type": "stream",
          "name": "stdout",
          "text": [
            "Print out few columns of encoded X set: \n",
            "\n"
          ]
        },
        {
          "output_type": "execute_result",
          "data": {
            "text/html": [
              "\n",
              "  <div id=\"df-d15287cf-dbe7-446c-8fff-65f3c60f6b8d\">\n",
              "    <div class=\"colab-df-container\">\n",
              "      <div>\n",
              "<style scoped>\n",
              "    .dataframe tbody tr th:only-of-type {\n",
              "        vertical-align: middle;\n",
              "    }\n",
              "\n",
              "    .dataframe tbody tr th {\n",
              "        vertical-align: top;\n",
              "    }\n",
              "\n",
              "    .dataframe thead th {\n",
              "        text-align: right;\n",
              "    }\n",
              "</style>\n",
              "<table border=\"1\" class=\"dataframe\">\n",
              "  <thead>\n",
              "    <tr style=\"text-align: right;\">\n",
              "      <th></th>\n",
              "      <th>risk_tolerance_high_risk_tolerance</th>\n",
              "      <th>risk_tolerance_low_risk_tolerance</th>\n",
              "      <th>risk_tolerance_med_risk_tolerance</th>\n",
              "      <th>investment_experience_extensive_investment_exp</th>\n",
              "      <th>investment_experience_good_investment_exp</th>\n",
              "      <th>investment_experience_limited_investment_exp</th>\n",
              "      <th>investment_experience_no_investment_exp</th>\n",
              "      <th>liquidity_needs_not_important_liq_need</th>\n",
              "      <th>liquidity_needs_somewhat_important_liq_need</th>\n",
              "      <th>liquidity_needs_very_important_liq_need</th>\n",
              "      <th>platform_Android</th>\n",
              "      <th>platform_both</th>\n",
              "      <th>platform_iOS</th>\n",
              "      <th>instrument_type_first_traded_0</th>\n",
              "      <th>instrument_type_first_traded_adr</th>\n",
              "      <th>instrument_type_first_traded_cef</th>\n",
              "      <th>instrument_type_first_traded_etp</th>\n",
              "      <th>instrument_type_first_traded_lp</th>\n",
              "      <th>instrument_type_first_traded_mlp</th>\n",
              "      <th>instrument_type_first_traded_reit</th>\n",
              "      <th>instrument_type_first_traded_rlt</th>\n",
              "      <th>instrument_type_first_traded_stock</th>\n",
              "      <th>instrument_type_first_traded_tracking</th>\n",
              "      <th>instrument_type_first_traded_wrt</th>\n",
              "      <th>time_horizon_long_time_horizon</th>\n",
              "      <th>time_horizon_med_time_horizon</th>\n",
              "      <th>time_horizon_short_time_horizon</th>\n",
              "      <th>time_spent</th>\n",
              "      <th>first_deposit_amount</th>\n",
              "    </tr>\n",
              "    <tr>\n",
              "      <th>user_id</th>\n",
              "      <th></th>\n",
              "      <th></th>\n",
              "      <th></th>\n",
              "      <th></th>\n",
              "      <th></th>\n",
              "      <th></th>\n",
              "      <th></th>\n",
              "      <th></th>\n",
              "      <th></th>\n",
              "      <th></th>\n",
              "      <th></th>\n",
              "      <th></th>\n",
              "      <th></th>\n",
              "      <th></th>\n",
              "      <th></th>\n",
              "      <th></th>\n",
              "      <th></th>\n",
              "      <th></th>\n",
              "      <th></th>\n",
              "      <th></th>\n",
              "      <th></th>\n",
              "      <th></th>\n",
              "      <th></th>\n",
              "      <th></th>\n",
              "      <th></th>\n",
              "      <th></th>\n",
              "      <th></th>\n",
              "      <th></th>\n",
              "      <th></th>\n",
              "    </tr>\n",
              "  </thead>\n",
              "  <tbody>\n",
              "    <tr>\n",
              "      <th>895044c23edc821881e87da749c01034</th>\n",
              "      <td>1</td>\n",
              "      <td>0</td>\n",
              "      <td>0</td>\n",
              "      <td>0</td>\n",
              "      <td>0</td>\n",
              "      <td>1</td>\n",
              "      <td>0</td>\n",
              "      <td>0</td>\n",
              "      <td>0</td>\n",
              "      <td>1</td>\n",
              "      <td>1</td>\n",
              "      <td>0</td>\n",
              "      <td>0</td>\n",
              "      <td>0</td>\n",
              "      <td>0</td>\n",
              "      <td>0</td>\n",
              "      <td>0</td>\n",
              "      <td>0</td>\n",
              "      <td>0</td>\n",
              "      <td>0</td>\n",
              "      <td>0</td>\n",
              "      <td>1</td>\n",
              "      <td>0</td>\n",
              "      <td>0</td>\n",
              "      <td>0</td>\n",
              "      <td>1</td>\n",
              "      <td>0</td>\n",
              "      <td>33.129417</td>\n",
              "      <td>40.0</td>\n",
              "    </tr>\n",
              "    <tr>\n",
              "      <th>458b1d95441ced242949deefe8e4b638</th>\n",
              "      <td>0</td>\n",
              "      <td>0</td>\n",
              "      <td>1</td>\n",
              "      <td>0</td>\n",
              "      <td>0</td>\n",
              "      <td>1</td>\n",
              "      <td>0</td>\n",
              "      <td>0</td>\n",
              "      <td>0</td>\n",
              "      <td>1</td>\n",
              "      <td>1</td>\n",
              "      <td>0</td>\n",
              "      <td>0</td>\n",
              "      <td>0</td>\n",
              "      <td>0</td>\n",
              "      <td>0</td>\n",
              "      <td>0</td>\n",
              "      <td>0</td>\n",
              "      <td>0</td>\n",
              "      <td>0</td>\n",
              "      <td>0</td>\n",
              "      <td>1</td>\n",
              "      <td>0</td>\n",
              "      <td>0</td>\n",
              "      <td>0</td>\n",
              "      <td>0</td>\n",
              "      <td>1</td>\n",
              "      <td>16.573517</td>\n",
              "      <td>200.0</td>\n",
              "    </tr>\n",
              "    <tr>\n",
              "      <th>c7936f653d293479e034865db9bb932f</th>\n",
              "      <td>0</td>\n",
              "      <td>0</td>\n",
              "      <td>1</td>\n",
              "      <td>0</td>\n",
              "      <td>0</td>\n",
              "      <td>1</td>\n",
              "      <td>0</td>\n",
              "      <td>0</td>\n",
              "      <td>0</td>\n",
              "      <td>1</td>\n",
              "      <td>0</td>\n",
              "      <td>0</td>\n",
              "      <td>1</td>\n",
              "      <td>0</td>\n",
              "      <td>0</td>\n",
              "      <td>0</td>\n",
              "      <td>0</td>\n",
              "      <td>0</td>\n",
              "      <td>0</td>\n",
              "      <td>0</td>\n",
              "      <td>0</td>\n",
              "      <td>1</td>\n",
              "      <td>0</td>\n",
              "      <td>0</td>\n",
              "      <td>1</td>\n",
              "      <td>0</td>\n",
              "      <td>0</td>\n",
              "      <td>10.008367</td>\n",
              "      <td>25.0</td>\n",
              "    </tr>\n",
              "    <tr>\n",
              "      <th>b255d4bd6c9ba194d3a350b3e76c6393</th>\n",
              "      <td>0</td>\n",
              "      <td>0</td>\n",
              "      <td>1</td>\n",
              "      <td>0</td>\n",
              "      <td>0</td>\n",
              "      <td>1</td>\n",
              "      <td>0</td>\n",
              "      <td>0</td>\n",
              "      <td>0</td>\n",
              "      <td>1</td>\n",
              "      <td>1</td>\n",
              "      <td>0</td>\n",
              "      <td>0</td>\n",
              "      <td>0</td>\n",
              "      <td>0</td>\n",
              "      <td>0</td>\n",
              "      <td>0</td>\n",
              "      <td>0</td>\n",
              "      <td>0</td>\n",
              "      <td>0</td>\n",
              "      <td>0</td>\n",
              "      <td>1</td>\n",
              "      <td>0</td>\n",
              "      <td>0</td>\n",
              "      <td>0</td>\n",
              "      <td>0</td>\n",
              "      <td>1</td>\n",
              "      <td>1.031633</td>\n",
              "      <td>100.0</td>\n",
              "    </tr>\n",
              "    <tr>\n",
              "      <th>4a168225e89375b8de605cbc0977ae91</th>\n",
              "      <td>1</td>\n",
              "      <td>0</td>\n",
              "      <td>0</td>\n",
              "      <td>0</td>\n",
              "      <td>0</td>\n",
              "      <td>1</td>\n",
              "      <td>0</td>\n",
              "      <td>0</td>\n",
              "      <td>0</td>\n",
              "      <td>1</td>\n",
              "      <td>1</td>\n",
              "      <td>0</td>\n",
              "      <td>0</td>\n",
              "      <td>0</td>\n",
              "      <td>0</td>\n",
              "      <td>0</td>\n",
              "      <td>0</td>\n",
              "      <td>0</td>\n",
              "      <td>0</td>\n",
              "      <td>0</td>\n",
              "      <td>0</td>\n",
              "      <td>1</td>\n",
              "      <td>0</td>\n",
              "      <td>0</td>\n",
              "      <td>1</td>\n",
              "      <td>0</td>\n",
              "      <td>0</td>\n",
              "      <td>8.187250</td>\n",
              "      <td>20.0</td>\n",
              "    </tr>\n",
              "  </tbody>\n",
              "</table>\n",
              "</div>\n",
              "      <button class=\"colab-df-convert\" onclick=\"convertToInteractive('df-d15287cf-dbe7-446c-8fff-65f3c60f6b8d')\"\n",
              "              title=\"Convert this dataframe to an interactive table.\"\n",
              "              style=\"display:none;\">\n",
              "        \n",
              "  <svg xmlns=\"http://www.w3.org/2000/svg\" height=\"24px\"viewBox=\"0 0 24 24\"\n",
              "       width=\"24px\">\n",
              "    <path d=\"M0 0h24v24H0V0z\" fill=\"none\"/>\n",
              "    <path d=\"M18.56 5.44l.94 2.06.94-2.06 2.06-.94-2.06-.94-.94-2.06-.94 2.06-2.06.94zm-11 1L8.5 8.5l.94-2.06 2.06-.94-2.06-.94L8.5 2.5l-.94 2.06-2.06.94zm10 10l.94 2.06.94-2.06 2.06-.94-2.06-.94-.94-2.06-.94 2.06-2.06.94z\"/><path d=\"M17.41 7.96l-1.37-1.37c-.4-.4-.92-.59-1.43-.59-.52 0-1.04.2-1.43.59L10.3 9.45l-7.72 7.72c-.78.78-.78 2.05 0 2.83L4 21.41c.39.39.9.59 1.41.59.51 0 1.02-.2 1.41-.59l7.78-7.78 2.81-2.81c.8-.78.8-2.07 0-2.86zM5.41 20L4 18.59l7.72-7.72 1.47 1.35L5.41 20z\"/>\n",
              "  </svg>\n",
              "      </button>\n",
              "      \n",
              "  <style>\n",
              "    .colab-df-container {\n",
              "      display:flex;\n",
              "      flex-wrap:wrap;\n",
              "      gap: 12px;\n",
              "    }\n",
              "\n",
              "    .colab-df-convert {\n",
              "      background-color: #E8F0FE;\n",
              "      border: none;\n",
              "      border-radius: 50%;\n",
              "      cursor: pointer;\n",
              "      display: none;\n",
              "      fill: #1967D2;\n",
              "      height: 32px;\n",
              "      padding: 0 0 0 0;\n",
              "      width: 32px;\n",
              "    }\n",
              "\n",
              "    .colab-df-convert:hover {\n",
              "      background-color: #E2EBFA;\n",
              "      box-shadow: 0px 1px 2px rgba(60, 64, 67, 0.3), 0px 1px 3px 1px rgba(60, 64, 67, 0.15);\n",
              "      fill: #174EA6;\n",
              "    }\n",
              "\n",
              "    [theme=dark] .colab-df-convert {\n",
              "      background-color: #3B4455;\n",
              "      fill: #D2E3FC;\n",
              "    }\n",
              "\n",
              "    [theme=dark] .colab-df-convert:hover {\n",
              "      background-color: #434B5C;\n",
              "      box-shadow: 0px 1px 3px 1px rgba(0, 0, 0, 0.15);\n",
              "      filter: drop-shadow(0px 1px 2px rgba(0, 0, 0, 0.3));\n",
              "      fill: #FFFFFF;\n",
              "    }\n",
              "  </style>\n",
              "\n",
              "      <script>\n",
              "        const buttonEl =\n",
              "          document.querySelector('#df-d15287cf-dbe7-446c-8fff-65f3c60f6b8d button.colab-df-convert');\n",
              "        buttonEl.style.display =\n",
              "          google.colab.kernel.accessAllowed ? 'block' : 'none';\n",
              "\n",
              "        async function convertToInteractive(key) {\n",
              "          const element = document.querySelector('#df-d15287cf-dbe7-446c-8fff-65f3c60f6b8d');\n",
              "          const dataTable =\n",
              "            await google.colab.kernel.invokeFunction('convertToInteractive',\n",
              "                                                     [key], {});\n",
              "          if (!dataTable) return;\n",
              "\n",
              "          const docLinkHtml = 'Like what you see? Visit the ' +\n",
              "            '<a target=\"_blank\" href=https://colab.research.google.com/notebooks/data_table.ipynb>data table notebook</a>'\n",
              "            + ' to learn more about interactive tables.';\n",
              "          element.innerHTML = '';\n",
              "          dataTable['output_type'] = 'display_data';\n",
              "          await google.colab.output.renderOutput(dataTable, element);\n",
              "          const docLink = document.createElement('div');\n",
              "          docLink.innerHTML = docLinkHtml;\n",
              "          element.appendChild(docLink);\n",
              "        }\n",
              "      </script>\n",
              "    </div>\n",
              "  </div>\n",
              "  "
            ],
            "text/plain": [
              "                                  risk_tolerance_high_risk_tolerance  ...  first_deposit_amount\n",
              "user_id                                                               ...                      \n",
              "895044c23edc821881e87da749c01034                                   1  ...                  40.0\n",
              "458b1d95441ced242949deefe8e4b638                                   0  ...                 200.0\n",
              "c7936f653d293479e034865db9bb932f                                   0  ...                  25.0\n",
              "b255d4bd6c9ba194d3a350b3e76c6393                                   0  ...                 100.0\n",
              "4a168225e89375b8de605cbc0977ae91                                   1  ...                  20.0\n",
              "\n",
              "[5 rows x 29 columns]"
            ]
          },
          "metadata": {},
          "execution_count": 18
        }
      ],
      "source": [
        "# Perform One-Hot encoding on columns with categorical variables\n",
        "X_Onehot_cat = pd.get_dummies(X[['risk_tolerance','investment_experience','liquidity_needs','platform','instrument_type_first_traded','time_horizon']])\n",
        "X_encoded = pd.concat([X_Onehot_cat,X[['time_spent', 'first_deposit_amount']]],axis=1)\n",
        "# Print out few columns of encoded X set\n",
        "print(\"Print out few columns of encoded X set: \\n\")\n",
        "X_encoded.head()"
      ]
    },
    {
      "cell_type": "code",
      "source": [
        "# Perform SMOTE oversampeling\n",
        "X_encoded, Y = smote_imbal(X_encoded, Y)\n"
      ],
      "metadata": {
        "id": "Hq_Du7SJWp55"
      },
      "id": "Hq_Du7SJWp55",
      "execution_count": 19,
      "outputs": []
    },
    {
      "cell_type": "markdown",
      "source": [
        "Train and test XGBoost classification model:\n",
        "\n"
      ],
      "metadata": {
        "id": "okoNstscs21X"
      },
      "id": "okoNstscs21X"
    },
    {
      "cell_type": "code",
      "source": [
        "# Import XGBoost library\n",
        "from xgboost import XGBClassifier,plot_importance\n",
        "\n",
        "# Fit the XGboost classifier \n",
        "model = XGBClassifier(max_depth=12, learning_rate=0.01)\n",
        "\n",
        "# Define evaluation procedure\n",
        "cv = RepeatedStratifiedKFold(n_splits=5, n_repeats=3, random_state=1)\n",
        "\n",
        "# Cross validate the model\n",
        "Y = np.array(Y).ravel()\n",
        "scores = cross_val_score(model, X_encoded, Y, scoring='roc_auc', cv=cv, n_jobs=-1)\n",
        "\n",
        "# Print out the mean AUC\n",
        "print('Mean AUC: %.3f' % np.mean(scores))"
      ],
      "metadata": {
        "colab": {
          "base_uri": "https://localhost:8080/"
        },
        "id": "vvOA2kFQOUqs",
        "outputId": "5f4ddef6-3d5d-4f63-cdb8-59cc7a4fc8e9"
      },
      "id": "vvOA2kFQOUqs",
      "execution_count": 20,
      "outputs": [
        {
          "output_type": "stream",
          "name": "stdout",
          "text": [
            "Mean AUC: 0.981\n"
          ]
        }
      ]
    },
    {
      "cell_type": "markdown",
      "source": [
        "Determine the top three features based on XGboost model:"
      ],
      "metadata": {
        "id": "2BR5vjDJXuI9"
      },
      "id": "2BR5vjDJXuI9"
    },
    {
      "cell_type": "code",
      "source": [
        "# Rank the features based on their importance\n",
        "X_train, X_test, y_train, y_test = train_test_split(X_encoded, Y, test_size=0.2, random_state=40)\n",
        "model= XGBClassifier(max_depth=5, learning_rate=0.01,scale_pos_weight=13)\n",
        "xgb_model = model.fit(X_train, y_train)\n",
        "fig, ax = plt.subplots(figsize=(10,8))\n",
        "plot_importance(xgb_model, ax=ax);"
      ],
      "metadata": {
        "colab": {
          "base_uri": "https://localhost:8080/",
          "height": 513
        },
        "id": "6FhUtnO2SuXG",
        "outputId": "320195dc-533c-44ca-ecd1-87ba984e6cfa"
      },
      "id": "6FhUtnO2SuXG",
      "execution_count": 21,
      "outputs": [
        {
          "output_type": "display_data",
          "data": {
            "image/png": "[encoded data removed]",
            "text/plain": [
              "<Figure size 720x576 with 1 Axes>"
            ]
          },
          "metadata": {
            "needs_background": "light"
          }
        }
      ]
    }
  ],
  "metadata": {
    "kernelspec": {
      "display_name": "Python 3.8.10 64-bit",
      "language": "python",
      "name": "python3810jvsc74a57bd00adcc2737ebf6a4a119f135174df96668767fca1ef1112612db5ecadf2b6d608"
    },
    "language_info": {
      "codemirror_mode": {
        "name": "ipython",
        "version": 3
      },
      "file_extension": ".py",
      "mimetype": "text/x-python",
      "name": "python",
      "nbconvert_exporter": "python",
      "pygments_lexer": "ipython3",
      "version": "3.8.10"
    },
    "colab": {
      "name": "Churn_Prediction_Robinhood.ipynb",
      "provenance": [],
      "machine_shape": "hm",
      "collapsed_sections": []
    },
    "accelerator": "GPU"
  },
  "nbformat": 4,
  "nbformat_minor": 5
}